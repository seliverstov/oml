{
 "cells": [
  {
   "cell_type": "code",
   "execution_count": 1,
   "metadata": {},
   "outputs": [],
   "source": [
    "import torch\n",
    "import torch.nn as nn\n",
    "import torch.nn.functional as F\n",
    "import torch.optim as optim\n",
    "import torch.utils.data as data\n",
    "import numpy as np\n",
    "import pandas as pd\n",
    "import matplotlib\n",
    "import matplotlib.pyplot as plt\n",
    "from pathlib import Path\n",
    "%matplotlib inline"
   ]
  },
  {
   "cell_type": "code",
   "execution_count": 2,
   "metadata": {},
   "outputs": [],
   "source": [
    "import torchvision.datasets as datasets\n",
    "import torchvision.transforms as transforms"
   ]
  },
  {
   "cell_type": "code",
   "execution_count": 3,
   "metadata": {},
   "outputs": [],
   "source": [
    "PATH = Path(\"./MNIST\")"
   ]
  },
  {
   "cell_type": "code",
   "execution_count": 4,
   "metadata": {},
   "outputs": [],
   "source": [
    "device = \"cuda:6\" if torch.cuda.is_available() else \"cpu\""
   ]
  },
  {
   "cell_type": "code",
   "execution_count": 5,
   "metadata": {},
   "outputs": [],
   "source": [
    "tfms = transforms.Compose([\n",
    "    transforms.ToTensor(),\n",
    "    transforms.Normalize((0.5,), (0.5,))\n",
    "])"
   ]
  },
  {
   "cell_type": "code",
   "execution_count": 6,
   "metadata": {},
   "outputs": [],
   "source": [
    "train_ds = datasets.MNIST(PATH, train=True, download=True, transform=tfms)\n",
    "test_ds = datasets.MNIST(PATH, train=False, download=True, transform=tfms)"
   ]
  },
  {
   "cell_type": "code",
   "execution_count": 7,
   "metadata": {},
   "outputs": [],
   "source": [
    "train_dl = data.DataLoader(train_ds, batch_size=64)\n",
    "test_dl = data.DataLoader(test_ds, batch_size=64, shuffle=False)"
   ]
  },
  {
   "cell_type": "code",
   "execution_count": 8,
   "metadata": {},
   "outputs": [],
   "source": [
    "class Encoder(nn.Module):\n",
    "    def __init__(self, input_size, latent_size):\n",
    "        super().__init__()\n",
    "        super(Net, self).__init__()\n",
    "        self.fc1 = nn.Linear(28*28, 128)\n",
    "        self.fc2 = nn.Linear(128, 128)\n",
    "        self.fc3 = nn.Linear(128, 10)\n",
    "        \n",
    "        \n",
    "    def forward(self, x):\n",
    "        x = F.tanh(self.fc1(x))\n",
    "        return x"
   ]
  },
  {
   "cell_type": "code",
   "execution_count": 9,
   "metadata": {},
   "outputs": [],
   "source": [
    "class Classifier(nn.Module):\n",
    "    def __init__(self, input_size, lr=1e-4, l2=0.):\n",
    "        super().__init__()\n",
    "        self.input_size = input_size\n",
    "        self.fc1 = nn.Linear(input_size, 128)\n",
    "        self.fc2 = nn.Linear(128, 128)\n",
    "        self.fc3 = nn.Linear(128, 10)\n",
    "        self.optim = optim.Adam(self.parameters(), lr=lr, weight_decay=l2)\n",
    "        self.loss_fn = F.nll_loss\n",
    "    \n",
    "    def forward(self, x):\n",
    "        x = x.view(-1, self.input_size)\n",
    "        x = F.relu(self.fc1(x))\n",
    "        x = F.relu(self.fc2(x))\n",
    "        x = self.fc3(x)\n",
    "        x = F.log_softmax(x, dim=1)\n",
    "        return x\n",
    "    \n",
    "    def loss(self, pred, target):\n",
    "        self._loss = self.loss_fn(pred, target)\n",
    "        return self._loss"
   ]
  },
  {
   "cell_type": "code",
   "execution_count": 10,
   "metadata": {},
   "outputs": [],
   "source": [
    "def train(epoch, model, train_loader):\n",
    "    train_size = len(train_loader.sampler)\n",
    "    for batch_idx, (data, target) in enumerate(train_loader):\n",
    "        data = data.to(device)\n",
    "        target = target.to(device)\n",
    "        model.optim.zero_grad()\n",
    "        output = model(data)\n",
    "        loss = model.loss(output, target)\n",
    "        loss.backward()\n",
    "        model.optim.step()   \n",
    "    else:\n",
    "        batch_idx += 1\n",
    "        line = 'Train Epoch: {} [{}/{} ({:.0f}%)]\\tLoss  {:.6f}'.format(\n",
    "            epoch, batch_idx * len(data), train_size, 100. * batch_idx / len(train_loader), model._loss.item())\n",
    "        print(line)\n",
    "    return model._loss.item()"
   ]
  },
  {
   "cell_type": "code",
   "execution_count": 11,
   "metadata": {},
   "outputs": [],
   "source": [
    "def test(model, loader, ds):\n",
    "    test_size = len(loader.sampler)\n",
    "    avg_lambda = lambda l: 'Loss: {:.4f}'.format(l)\n",
    "    acc_lambda = lambda c, p: 'Accuracy: {}/{} ({:.0f}%)'.format(c, test_size, p)\n",
    "    line = lambda l, c, p: ' ' + avg_lambda(l) + '\\t' + acc_lambda(c, p)\n",
    "\n",
    "    test_loss = 0\n",
    "    correct = 0\n",
    "    with torch.no_grad():\n",
    "        for data, target in loader:\n",
    "            data = data.to(device)\n",
    "            target = target.to(device)\n",
    "            output = model(data)\n",
    "            test_loss += model.loss(output, target).item() # sum up batch loss\n",
    "            _, pred = torch.max(output.data, 1)\n",
    "            correct += (pred == target).sum().item()\n",
    "    \n",
    "    test_loss /= test_size\n",
    "    correct_pct = correct / test_size\n",
    "    report = ''+ds+' set:\\n' + line(test_loss, correct, 100.0 * correct_pct) + '\\n'\n",
    "    \n",
    "    print(report)\n",
    "    return test_loss, correct_pct"
   ]
  },
  {
   "cell_type": "code",
   "execution_count": 12,
   "metadata": {},
   "outputs": [],
   "source": [
    "def plot_images(images, shape):\n",
    "    fig = plt.figure(figsize=shape[::-1], dpi=80)\n",
    "    for j in range(1, len(images) + 1):\n",
    "        ax = fig.add_subplot(shape[0], shape[1], j)\n",
    "        ax.matshow(images[j - 1, 0, :, :], cmap = matplotlib.cm.binary)\n",
    "        plt.xticks(np.array([]))\n",
    "        plt.yticks(np.array([]))\n",
    "    plt.show()"
   ]
  },
  {
   "cell_type": "code",
   "execution_count": 13,
   "metadata": {},
   "outputs": [],
   "source": [
    "model = Classifier(28*28).to(device)"
   ]
  },
  {
   "cell_type": "code",
   "execution_count": 14,
   "metadata": {},
   "outputs": [
    {
     "name": "stdout",
     "output_type": "stream",
     "text": [
      "Train Epoch: 1 [30016/60000 (100%)]\tLoss  0.257721\n",
      "Test set:\n",
      " Loss: 0.0057\tAccuracy: 8929/10000 (89%)\n",
      "\n",
      "Train Epoch: 2 [30016/60000 (100%)]\tLoss  0.180254\n",
      "Test set:\n",
      " Loss: 0.0047\tAccuracy: 9090/10000 (91%)\n",
      "\n",
      "Train Epoch: 3 [30016/60000 (100%)]\tLoss  0.136390\n",
      "Test set:\n",
      " Loss: 0.0042\tAccuracy: 9191/10000 (92%)\n",
      "\n",
      "Train Epoch: 4 [30016/60000 (100%)]\tLoss  0.097583\n",
      "Test set:\n",
      " Loss: 0.0038\tAccuracy: 9266/10000 (93%)\n",
      "\n",
      "Train Epoch: 5 [30016/60000 (100%)]\tLoss  0.070055\n",
      "Test set:\n",
      " Loss: 0.0034\tAccuracy: 9337/10000 (93%)\n",
      "\n",
      "Train Epoch: 6 [30016/60000 (100%)]\tLoss  0.055572\n",
      "Test set:\n",
      " Loss: 0.0031\tAccuracy: 9400/10000 (94%)\n",
      "\n",
      "Train Epoch: 7 [30016/60000 (100%)]\tLoss  0.047917\n",
      "Test set:\n",
      " Loss: 0.0028\tAccuracy: 9456/10000 (95%)\n",
      "\n",
      "Train Epoch: 8 [30016/60000 (100%)]\tLoss  0.040790\n",
      "Test set:\n",
      " Loss: 0.0026\tAccuracy: 9499/10000 (95%)\n",
      "\n",
      "Train Epoch: 9 [30016/60000 (100%)]\tLoss  0.036456\n",
      "Test set:\n",
      " Loss: 0.0024\tAccuracy: 9531/10000 (95%)\n",
      "\n",
      "Train Epoch: 10 [30016/60000 (100%)]\tLoss  0.033529\n",
      "Test set:\n",
      " Loss: 0.0022\tAccuracy: 9562/10000 (96%)\n",
      "\n",
      "Train Epoch: 11 [30016/60000 (100%)]\tLoss  0.030415\n",
      "Test set:\n",
      " Loss: 0.0021\tAccuracy: 9594/10000 (96%)\n",
      "\n",
      "Train Epoch: 12 [30016/60000 (100%)]\tLoss  0.027704\n",
      "Test set:\n",
      " Loss: 0.0020\tAccuracy: 9607/10000 (96%)\n",
      "\n",
      "Train Epoch: 13 [30016/60000 (100%)]\tLoss  0.026025\n",
      "Test set:\n",
      " Loss: 0.0019\tAccuracy: 9631/10000 (96%)\n",
      "\n",
      "Train Epoch: 14 [30016/60000 (100%)]\tLoss  0.025331\n",
      "Test set:\n",
      " Loss: 0.0018\tAccuracy: 9642/10000 (96%)\n",
      "\n",
      "Train Epoch: 15 [30016/60000 (100%)]\tLoss  0.024239\n",
      "Test set:\n",
      " Loss: 0.0017\tAccuracy: 9658/10000 (97%)\n",
      "\n",
      "Train Epoch: 16 [30016/60000 (100%)]\tLoss  0.022644\n",
      "Test set:\n",
      " Loss: 0.0017\tAccuracy: 9665/10000 (97%)\n",
      "\n",
      "Train Epoch: 17 [30016/60000 (100%)]\tLoss  0.020810\n",
      "Test set:\n",
      " Loss: 0.0016\tAccuracy: 9674/10000 (97%)\n",
      "\n",
      "Train Epoch: 18 [30016/60000 (100%)]\tLoss  0.019406\n",
      "Test set:\n",
      " Loss: 0.0016\tAccuracy: 9680/10000 (97%)\n",
      "\n",
      "Train Epoch: 19 [30016/60000 (100%)]\tLoss  0.018290\n",
      "Test set:\n",
      " Loss: 0.0015\tAccuracy: 9684/10000 (97%)\n",
      "\n",
      "Train Epoch: 20 [30016/60000 (100%)]\tLoss  0.017088\n",
      "Test set:\n",
      " Loss: 0.0015\tAccuracy: 9692/10000 (97%)\n",
      "\n",
      "CPU times: user 2min 28s, sys: 3.07 s, total: 2min 31s\n",
      "Wall time: 2min 30s\n"
     ]
    }
   ],
   "source": [
    "%%time\n",
    "for epoch in range(1,21):\n",
    "    model.train()\n",
    "    train(epoch, model, train_dl)\n",
    "    test(model, test_dl, 'Test')"
   ]
  },
  {
   "cell_type": "code",
   "execution_count": 15,
   "metadata": {},
   "outputs": [],
   "source": [
    "torch.save(model.state_dict(), PATH / \"ae_classifier.model\")"
   ]
  },
  {
   "cell_type": "code",
   "execution_count": 16,
   "metadata": {},
   "outputs": [],
   "source": [
    "test_dl = data.DataLoader(test_ds, batch_size=1, shuffle=False)"
   ]
  },
  {
   "cell_type": "code",
   "execution_count": 17,
   "metadata": {},
   "outputs": [],
   "source": [
    "w, c = next(iter(test_dl))"
   ]
  },
  {
   "cell_type": "markdown",
   "metadata": {},
   "source": [
    "### Original image"
   ]
  },
  {
   "cell_type": "code",
   "execution_count": 18,
   "metadata": {},
   "outputs": [
    {
     "data": {
      "image/png": "[encoded data removed]",
      "text/plain": [
       "<Figure size 80x80 with 1 Axes>"
      ]
     },
     "metadata": {},
     "output_type": "display_data"
    }
   ],
   "source": [
    "plot_images(w, (1,1))"
   ]
  },
  {
   "cell_type": "markdown",
   "metadata": {},
   "source": [
    "### Class of original image"
   ]
  },
  {
   "cell_type": "code",
   "execution_count": 19,
   "metadata": {},
   "outputs": [
    {
     "data": {
      "text/plain": [
       "7"
      ]
     },
     "execution_count": 19,
     "metadata": {},
     "output_type": "execute_result"
    }
   ],
   "source": [
    "c.item()"
   ]
  },
  {
   "cell_type": "code",
   "execution_count": 20,
   "metadata": {},
   "outputs": [],
   "source": [
    "class FitToClass(nn.Module):\n",
    "    def __init__(self, data, target_class, clip_fn=None):\n",
    "        super().__init__()\n",
    "        self._loss = None\n",
    "        self.target_class = torch.tensor([target_class]).to(device)\n",
    "        self.w = nn.Parameter(data)\n",
    "        self.clip_fn = clip_fn if clip_fn else lambda x: x\n",
    "        self.optim = optim.Adam(self.parameters(), lr=1e-3)\n",
    "        \n",
    "    def forward(self):\n",
    "        out = model(self.clip_fn(self.w))\n",
    "        return out\n",
    "    \n",
    "    def loss(self, out):\n",
    "        self._loss = F.nll_loss(out, self.target_class)\n",
    "        return self._loss"
   ]
  },
  {
   "cell_type": "markdown",
   "metadata": {},
   "source": [
    "### Try to change class of image to 8"
   ]
  },
  {
   "cell_type": "code",
   "execution_count": 21,
   "metadata": {},
   "outputs": [
    {
     "name": "stdout",
     "output_type": "stream",
     "text": [
      "1K iteration loss: \n",
      "\tno_clip = 9.120941162109375e-06\n",
      " \tsigmoid = 0.0004661533832550049\n",
      " \ttanh = 2.6187896728515626e-05\n",
      "\n",
      "2K iteration loss: \n",
      "\tno_clip = 3.1747817993164064e-06\n",
      " \tsigmoid = 0.00012169480323791504\n",
      " \ttanh = 8.226394653320312e-06\n",
      "\n",
      "3K iteration loss: \n",
      "\tno_clip = 1.5106201171875e-06\n",
      " \tsigmoid = 4.843616485595703e-05\n",
      " \ttanh = 3.7903785705566406e-06\n",
      "\n",
      "4K iteration loss: \n",
      "\tno_clip = 8.440017700195313e-07\n",
      " \tsigmoid = 2.5610923767089844e-05\n",
      " \ttanh = 1.7504692077636718e-06\n",
      "\n",
      "5K iteration loss: \n",
      "\tno_clip = 4.92095947265625e-07\n",
      " \tsigmoid = 1.5764713287353516e-05\n",
      " \ttanh = 9.331703186035157e-07\n",
      "\n",
      "6K iteration loss: \n",
      "\tno_clip = 2.9277801513671875e-07\n",
      " \tsigmoid = 1.0411739349365235e-05\n",
      " \ttanh = 5.540847778320312e-07\n",
      "\n",
      "7K iteration loss: \n",
      "\tno_clip = 1.7642974853515625e-07\n",
      " \tsigmoid = 7.154464721679687e-06\n",
      " \ttanh = 3.4046173095703123e-07\n",
      "\n",
      "8K iteration loss: \n",
      "\tno_clip = 1.0395050048828125e-07\n",
      " \tsigmoid = 5.005836486816406e-06\n",
      " \ttanh = 2.1076202392578125e-07\n",
      "\n",
      "9K iteration loss: \n",
      "\tno_clip = 5.7220458984375e-08\n",
      " \tsigmoid = 3.5963058471679687e-06\n",
      " \ttanh = 1.3637542724609374e-07\n",
      "\n",
      "10K iteration loss: \n",
      "\tno_clip = 3.337860107421875e-08\n",
      " \tsigmoid = 2.676486968994141e-06\n",
      " \ttanh = 8.678436279296875e-08\n",
      "\n",
      "11K iteration loss: \n",
      "\tno_clip = 2.09808349609375e-08\n",
      " \tsigmoid = 2.0322799682617185e-06\n",
      " \ttanh = 5.91278076171875e-08\n",
      "\n",
      "12K iteration loss: \n",
      "\tno_clip = 1.33514404296875e-08\n",
      " \tsigmoid = 1.5802383422851563e-06\n",
      " \ttanh = 4.100799560546875e-08\n",
      "\n",
      "13K iteration loss: \n",
      "\tno_clip = 8.58306884765625e-09\n",
      " \tsigmoid = 1.2574195861816406e-06\n",
      " \ttanh = 2.86102294921875e-08\n",
      "\n",
      "14K iteration loss: \n",
      "\tno_clip = 4.76837158203125e-09\n",
      " \tsigmoid = 1.0242462158203126e-06\n",
      " \ttanh = 1.9073486328125e-08\n",
      "\n",
      "15K iteration loss: \n",
      "\tno_clip = 2.86102294921875e-09\n",
      " \tsigmoid = 8.535385131835938e-07\n",
      " \ttanh = 1.33514404296875e-08\n",
      "\n",
      "16K iteration loss: \n",
      "\tno_clip = 1.9073486328125e-09\n",
      " \tsigmoid = 7.276535034179688e-07\n",
      " \ttanh = 8.58306884765625e-09\n",
      "\n",
      "17K iteration loss: \n",
      "\tno_clip = 9.5367431640625e-10\n",
      " \tsigmoid = 6.351470947265625e-07\n",
      " \ttanh = 5.7220458984375e-09\n",
      "\n",
      "18K iteration loss: \n",
      "\tno_clip = 9.5367431640625e-10\n",
      " \tsigmoid = 5.674362182617187e-07\n",
      " \ttanh = 3.814697265625e-09\n",
      "\n",
      "19K iteration loss: \n",
      "\tno_clip = 0.0\n",
      " \tsigmoid = 4.69207763671875e-07\n",
      " \ttanh = 2.86102294921875e-09\n",
      "\n",
      "20K iteration loss: \n",
      "\tno_clip = 0.0\n",
      " \tsigmoid = 3.4236907958984374e-07\n",
      " \ttanh = 1.9073486328125e-09\n",
      "\n"
     ]
    }
   ],
   "source": [
    "line = lambda ms, ls: [f\"{m}\" for m, l in zip(ms,ls)]\n",
    "\n",
    "model.eval()\n",
    "\n",
    "models = {\n",
    "    'no_clip': FitToClass(w, 8),\n",
    "    'sigmoid': FitToClass(w, 8, F.sigmoid),\n",
    "    'tanh': FitToClass(w, 8, F.tanh)\n",
    "}\n",
    "\n",
    "for m in models:\n",
    "    models[m].to(device).train()\n",
    "\n",
    "for i in range(1, 20_001):\n",
    "    losses = [0.0]*len(models)\n",
    "    for j , m in enumerate(models.values()):\n",
    "        m.optim.zero_grad()\n",
    "        out = m()\n",
    "        loss = m.loss(out)\n",
    "        loss.backward()\n",
    "        m.optim.step()\n",
    "        losses[j]+=loss.item()\n",
    "    if i % 1000 == 0:\n",
    "        s = [f\"\\t{m} = {losses[j]/1000.}\\n\" for j , m in enumerate(models)]\n",
    "        line = f\"{int(i/1000)}K iteration loss: \\n{' '.join(s)}\"\n",
    "        print(line)\n",
    "        losses = [0.0]*len(models)\n",
    "            "
   ]
  },
  {
   "cell_type": "code",
   "execution_count": 22,
   "metadata": {},
   "outputs": [],
   "source": [
    "target_imgs = {k: m.w.detach() for k, m in models.items()}\n",
    "target_imgs['original']=w.to(device)"
   ]
  },
  {
   "cell_type": "markdown",
   "metadata": {},
   "source": [
    "### Predict class of target image with trained classifier"
   ]
  },
  {
   "cell_type": "code",
   "execution_count": 23,
   "metadata": {},
   "outputs": [
    {
     "data": {
      "text/plain": [
       "{'no_clip': 8, 'sigmoid': 8, 'tanh': 8, 'original': 7}"
      ]
     },
     "execution_count": 23,
     "metadata": {},
     "output_type": "execute_result"
    }
   ],
   "source": [
    "{k: torch.argmax(model(target_img)).item() for k, target_img in target_imgs.items()}"
   ]
  },
  {
   "cell_type": "markdown",
   "metadata": {},
   "source": [
    "### Plot target image"
   ]
  },
  {
   "cell_type": "code",
   "execution_count": 24,
   "metadata": {},
   "outputs": [
    {
     "name": "stdout",
     "output_type": "stream",
     "text": [
      "original\n"
     ]
    },
    {
     "data": {
      "image/png": "[encoded data removed]",
      "text/plain": [
       "<Figure size 80x80 with 1 Axes>"
      ]
     },
     "metadata": {},
     "output_type": "display_data"
    }
   ],
   "source": [
    "print('original')\n",
    "plot_images(target_imgs['original'].view(-1, 1, 28, 28).data.cpu().numpy(), (1,1))"
   ]
  },
  {
   "cell_type": "code",
   "execution_count": 25,
   "metadata": {},
   "outputs": [
    {
     "name": "stdout",
     "output_type": "stream",
     "text": [
      "no_clip\n"
     ]
    },
    {
     "data": {
      "image/png": "[encoded data removed]",
      "text/plain": [
       "<Figure size 80x80 with 1 Axes>"
      ]
     },
     "metadata": {},
     "output_type": "display_data"
    }
   ],
   "source": [
    "print('no_clip')\n",
    "plot_images(target_imgs['no_clip'].view(-1, 1, 28, 28).data.cpu().numpy(), (1,1))"
   ]
  },
  {
   "cell_type": "code",
   "execution_count": 26,
   "metadata": {},
   "outputs": [
    {
     "name": "stdout",
     "output_type": "stream",
     "text": [
      "sigmoid\n"
     ]
    },
    {
     "data": {
      "image/png": "[encoded data removed]",
      "text/plain": [
       "<Figure size 80x80 with 1 Axes>"
      ]
     },
     "metadata": {},
     "output_type": "display_data"
    }
   ],
   "source": [
    "print('sigmoid')\n",
    "plot_images(F.sigmoid(target_imgs['sigmoid']).view(-1, 1, 28, 28).data.cpu().numpy(), (1,1))"
   ]
  },
  {
   "cell_type": "code",
   "execution_count": 27,
   "metadata": {},
   "outputs": [
    {
     "name": "stdout",
     "output_type": "stream",
     "text": [
      "tanh\n"
     ]
    },
    {
     "data": {
      "image/png": "[encoded data removed]",
      "text/plain": [
       "<Figure size 80x80 with 1 Axes>"
      ]
     },
     "metadata": {},
     "output_type": "display_data"
    }
   ],
   "source": [
    "print('tanh')\n",
    "plot_images(F.tanh(target_imgs['tanh']).view(-1, 1, 28, 28).data.cpu().numpy(), (1,1))"
   ]
  },
  {
   "cell_type": "code",
   "execution_count": 28,
   "metadata": {},
   "outputs": [
    {
     "data": {
      "text/plain": [
       "{'no_clip': -0.9013300538063049,\n",
       " 'sigmoid': -1.9802205562591553,\n",
       " 'tanh': -0.8918442130088806,\n",
       " 'original': -0.815386176109314}"
      ]
     },
     "execution_count": 28,
     "metadata": {},
     "output_type": "execute_result"
    }
   ],
   "source": [
    "{k: target_img.mean().item() for k, target_img in target_imgs.items()}"
   ]
  },
  {
   "cell_type": "code",
   "execution_count": 29,
   "metadata": {},
   "outputs": [
    {
     "data": {
      "text/plain": [
       "{'no_clip': 0.654685378074646,\n",
       " 'sigmoid': 4.2175421714782715,\n",
       " 'tanh': 0.7728224992752075,\n",
       " 'original': 0.5178234577178955}"
      ]
     },
     "execution_count": 29,
     "metadata": {},
     "output_type": "execute_result"
    }
   ],
   "source": [
    "{k: target_img.std().item() for k, target_img in target_imgs.items()}"
   ]
  },
  {
   "cell_type": "code",
   "execution_count": null,
   "metadata": {},
   "outputs": [],
   "source": []
  }
 ],
 "metadata": {
  "kernelspec": {
   "display_name": "Python 3",
   "language": "python",
   "name": "python3"
  },
  "language_info": {
   "codemirror_mode": {
    "name": "ipython",
    "version": 3
   },
   "file_extension": ".py",
   "mimetype": "text/x-python",
   "name": "python",
   "nbconvert_exporter": "python",
   "pygments_lexer": "ipython3",
   "version": "3.6.5"
  }
 },
 "nbformat": 4,
 "nbformat_minor": 2
}
