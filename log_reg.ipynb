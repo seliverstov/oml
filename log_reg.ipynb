{
 "cells": [
  {
   "cell_type": "code",
   "execution_count": 1,
   "metadata": {},
   "outputs": [],
   "source": [
    "import torch\n",
    "import torch.nn as nn\n",
    "import torch.nn.functional as F\n",
    "import torch.optim as optim\n",
    "\n",
    "import numpy as np\n",
    "import scipy.stats as stats\n",
    "import matplotlib.pyplot as plt\n",
    "\n",
    "%matplotlib inline"
   ]
  },
  {
   "cell_type": "code",
   "execution_count": 2,
   "metadata": {},
   "outputs": [],
   "source": [
    "# параметры распределений\n",
    "mu0, cov0 = [-2.0, 3.0], [[1.0, 0.2], [0.3, 1.0]]\n",
    "mu1, cov1 = [3.0, 2.0], [[1.0, 0.0], [0.0, 1.0]]"
   ]
  },
  {
   "cell_type": "code",
   "execution_count": 3,
   "metadata": {},
   "outputs": [],
   "source": [
    "def sample(d0, d1, n=32):\n",
    "    x0 = d0.sample((n,))\n",
    "    x1 = d1.sample((n,))\n",
    "    y0 = torch.zeros((n, 1))\n",
    "    y1 = torch.ones((n, 1))\n",
    "    return torch.cat([x0, x1], 0), torch.cat([y0, y1], 0)"
   ]
  },
  {
   "cell_type": "code",
   "execution_count": 4,
   "metadata": {},
   "outputs": [],
   "source": [
    "d0 = torch.distributions.MultivariateNormal(torch.tensor(mu0), torch.tensor(cov0))\n",
    "d1 = torch.distributions.MultivariateNormal(torch.tensor(mu1), torch.tensor(cov1))"
   ]
  },
  {
   "cell_type": "code",
   "execution_count": 5,
   "metadata": {},
   "outputs": [
    {
     "name": "stdout",
     "output_type": "stream",
     "text": [
      "[tensor([-0.0723,  0.4233]), tensor(-0.5142)]\n"
     ]
    }
   ],
   "source": [
    "layer = nn.Linear(2, 1)\n",
    "print([p.data[0] for p in layer.parameters()])\n",
    "opt = optim.SGD(lr=1e-7, params=list(layer.parameters()))"
   ]
  },
  {
   "cell_type": "code",
   "execution_count": 6,
   "metadata": {},
   "outputs": [
    {
     "name": "stdout",
     "output_type": "stream",
     "text": [
      "Ошибка после 0 итераций: 0.957849\n",
      "Ошибка после 1 итераций: 0.927825\n",
      "Ошибка после 2 итераций: 0.841064\n",
      "Ошибка после 3 итераций: 0.712904\n",
      "Ошибка после 4 итераций: 0.564393\n",
      "Ошибка после 5 итераций: 0.420819\n",
      "Ошибка после 6 итераций: 0.302686\n",
      "Ошибка после 7 итераций: 0.214006\n",
      "Ошибка после 8 итераций: 0.153259\n",
      "Ошибка после 9 итераций: 0.113440\n",
      "Ошибка после 10 итераций: 0.085805\n",
      "Ошибка после 11 итераций: 0.068076\n",
      "Ошибка после 12 итераций: 0.055082\n",
      "Ошибка после 13 итераций: 0.046425\n",
      "Ошибка после 14 итераций: 0.040355\n",
      "Ошибка после 15 итераций: 0.035297\n",
      "Ошибка после 16 итераций: 0.032754\n",
      "Ошибка после 17 итераций: 0.030681\n",
      "Ошибка после 18 итераций: 0.028217\n",
      "Ошибка после 19 итераций: 0.027496\n"
     ]
    }
   ],
   "source": [
    "log_freq = 500\n",
    "for i in range(10000):\n",
    "    if i%log_freq == 0:\n",
    "        with torch.no_grad():\n",
    "            x, y = sample(d0, d1, 100000)\n",
    "            out = F.sigmoid(layer(x))\n",
    "            loss = F.binary_cross_entropy(out, y)\n",
    "        print('Ошибка после %d итераций: %f' %(i/log_freq, loss))\n",
    "    x, y = sample(d0, d1, 1024)\n",
    "    out = F.sigmoid(layer(x))\n",
    "    loss = F.binary_cross_entropy(out, y)\n",
    "    loss.backward()\n",
    "    opt.step()\n"
   ]
  },
  {
   "cell_type": "code",
   "execution_count": null,
   "metadata": {},
   "outputs": [],
   "source": [
    "#x_scale = np.linspace(-10, 10, 5000)\n",
    "#d0_pdf = stats.norm.pdf(x_scale, mu0, sigma0) \n",
    "#d1_pdf = stats.norm.pdf(x_scale, mu1, sigma1)\n",
    "#x_tensor = torch.tensor(x_scale.reshape(-1, 1), dtype=torch.float)\n",
    "#with torch.no_grad():\n",
    "#    dist = F.sigmoid(layer(x_tensor)).numpy()"
   ]
  },
  {
   "cell_type": "code",
   "execution_count": null,
   "metadata": {},
   "outputs": [],
   "source": [
    "#plt.plot(x_scale, d0_pdf*2, label='d0') # умножение на 2 для красоты графиков, на распределения не влияет\n",
    "#plt.plot(x_scale, d1_pdf*2, label='d1')\n",
    "#plt.plot(x_scale, dist.flatten(), label='pred')\n",
    "#plt.legend();"
   ]
  },
  {
   "cell_type": "code",
   "execution_count": null,
   "metadata": {},
   "outputs": [],
   "source": [
    "#opt = optim.SGD(lr=1e-7, params=list(layer.parameters()))"
   ]
  },
  {
   "cell_type": "code",
   "execution_count": null,
   "metadata": {},
   "outputs": [],
   "source": []
  }
 ],
 "metadata": {
  "kernelspec": {
   "display_name": "Python 3",
   "language": "python",
   "name": "python3"
  },
  "language_info": {
   "codemirror_mode": {
    "name": "ipython",
    "version": 3
   },
   "file_extension": ".py",
   "mimetype": "text/x-python",
   "name": "python",
   "nbconvert_exporter": "python",
   "pygments_lexer": "ipython3",
   "version": "3.6.6"
  }
 },
 "nbformat": 4,
 "nbformat_minor": 2
}
