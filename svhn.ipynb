{
 "cells": [
  {
   "cell_type": "code",
   "execution_count": 1,
   "metadata": {},
   "outputs": [],
   "source": [
    "import torch\n",
    "from torch import utils\n",
    "from torchvision import datasets, transforms\n",
    "\n",
    "import matplotlib\n",
    "import matplotlib.pyplot as plt\n",
    "import numpy as np\n",
    "%matplotlib inline"
   ]
  },
  {
   "cell_type": "code",
   "execution_count": 3,
   "metadata": {},
   "outputs": [],
   "source": [
    "PATH = './SVHN'"
   ]
  },
  {
   "cell_type": "code",
   "execution_count": 5,
   "metadata": {},
   "outputs": [
    {
     "name": "stdout",
     "output_type": "stream",
     "text": [
      "Downloading http://ufldl.stanford.edu/housenumbers/train_32x32.mat to ./SVHN/train_32x32.mat\n"
     ]
    }
   ],
   "source": [
    "train_ds = datasets.SVHN(PATH, download=True, transform=transforms.ToTensor())"
   ]
  },
  {
   "cell_type": "code",
   "execution_count": 31,
   "metadata": {},
   "outputs": [
    {
     "data": {
      "text/plain": [
       "tensor([[ 0.1294,  0.0588,  0.0588,  ...,  0.2824,  0.3216,  0.3490],\n",
       "        [ 0.1098,  0.0549,  0.0549,  ...,  0.1569,  0.2627,  0.3255],\n",
       "        [ 0.1569,  0.0706,  0.0627,  ...,  0.0902,  0.1373,  0.2824],\n",
       "        ...,\n",
       "        [ 0.3373,  0.3412,  0.3216,  ...,  0.4078,  0.4078,  0.4039],\n",
       "        [ 0.3294,  0.3373,  0.3216,  ...,  0.4314,  0.4157,  0.4157],\n",
       "        [ 0.3333,  0.3490,  0.3333,  ...,  0.4353,  0.4275,  0.4039]])"
      ]
     },
     "execution_count": 31,
     "metadata": {},
     "output_type": "execute_result"
    }
   ],
   "source": [
    "train_ds[0][0][0]"
   ]
  },
  {
   "cell_type": "code",
   "execution_count": 24,
   "metadata": {},
   "outputs": [
    {
     "name": "stdout",
     "output_type": "stream",
     "text": [
      "tensor([ 0.4377,  0.4438,  0.4728]) tensor([ 0.4377,  0.4438,  0.4728])\n",
      "CPU times: user 9.36 s, sys: 121 ms, total: 9.48 s\n",
      "Wall time: 9.48 s\n"
     ]
    }
   ],
   "source": [
    "%%time\n",
    "ms = torch.zeros((0,0))\n",
    "ss = torch.zeros((0,0))\n",
    "for i in range(len(train_ds)):\n",
    "    x = train_ds[i][0].view(3,-1)\n",
    "    m = x.mean(dim=1).unsqueeze(0)\n",
    "    s = x.std(dim=1).unsqueeze(0)\n",
    "    ms = torch.cat((ms, m))\n",
    "    ss = torch.cat((ss, m))\n",
    "mean = ms.mean(dim=0) \n",
    "std = ss.mean(dim=0)\n",
    "print(mean, std)"
   ]
  },
  {
   "cell_type": "code",
   "execution_count": 26,
   "metadata": {},
   "outputs": [
    {
     "name": "stdout",
     "output_type": "stream",
     "text": [
      "Using downloaded and verified file: ./SVHN/train_32x32.mat\n"
     ]
    }
   ],
   "source": [
    "norm_ds = datasets.SVHN(PATH, download=True, transform=transforms.Compose([\n",
    "    transforms.ToTensor(),\n",
    "    transforms.Normalize((0.4377,  0.4438,  0.4728), (0.4377,  0.4438,  0.4728))]))"
   ]
  },
  {
   "cell_type": "code",
   "execution_count": 30,
   "metadata": {},
   "outputs": [
    {
     "data": {
      "text/plain": [
       "tensor([[-0.7043, -0.8656, -0.8656,  ..., -0.3549, -0.2653, -0.2026],\n",
       "        [-0.7491, -0.8746, -0.8746,  ..., -0.6416, -0.3997, -0.2564],\n",
       "        [-0.6416, -0.8387, -0.8566,  ..., -0.7939, -0.6864, -0.3549],\n",
       "        ...,\n",
       "        [-0.2295, -0.2205, -0.2653,  ..., -0.0682, -0.0682, -0.0772],\n",
       "        [-0.2474, -0.2295, -0.2653,  ..., -0.0145, -0.0503, -0.0503],\n",
       "        [-0.2384, -0.2026, -0.2384,  ..., -0.0055, -0.0234, -0.0772]])"
      ]
     },
     "execution_count": 30,
     "metadata": {},
     "output_type": "execute_result"
    }
   ],
   "source": [
    "norm_ds[0][0][0]"
   ]
  },
  {
   "cell_type": "code",
   "execution_count": null,
   "metadata": {},
   "outputs": [],
   "source": []
  }
 ],
 "metadata": {
  "kernelspec": {
   "display_name": "Python 3",
   "language": "python",
   "name": "python3"
  },
  "language_info": {
   "codemirror_mode": {
    "name": "ipython",
    "version": 3
   },
   "file_extension": ".py",
   "mimetype": "text/x-python",
   "name": "python",
   "nbconvert_exporter": "python",
   "pygments_lexer": "ipython3",
   "version": "3.6.3"
  }
 },
 "nbformat": 4,
 "nbformat_minor": 2
}
