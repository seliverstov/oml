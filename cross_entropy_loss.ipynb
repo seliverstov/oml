{
 "cells": [
  {
   "cell_type": "code",
   "execution_count": 1,
   "metadata": {},
   "outputs": [],
   "source": [
    "import torch\n",
    "import torch.nn as nn\n",
    "import torch.nn.functional as F\n",
    "import torch.optim as optim\n",
    "from torchvision import datasets, transforms\n",
    "from torch.autograd import Variable\n",
    "\n",
    "from utils import mnist"
   ]
  },
  {
   "cell_type": "code",
   "execution_count": 2,
   "metadata": {},
   "outputs": [],
   "source": [
    "train_loader, test_loader = mnist()"
   ]
  },
  {
   "cell_type": "code",
   "execution_count": 3,
   "metadata": {},
   "outputs": [],
   "source": [
    "def my_log_softmax(x, dim=1, **kwargs):\n",
    "    ms, _ = torch.max(x, dim)\n",
    "    z = x - ms[:, None]\n",
    "    s = torch.log(torch.sum(torch.exp(z), dim))\n",
    "    return z - s[:, None]"
   ]
  },
  {
   "cell_type": "code",
   "execution_count": 4,
   "metadata": {},
   "outputs": [
    {
     "data": {
      "text/plain": [
       "tensor(1.00000e-07 *\n",
       "       [[ 2.3842,  0.0000,  0.0000,  1.1921,  0.0000],\n",
       "        [ 0.0000,  0.0000,  1.1921,  0.0000,  0.0000],\n",
       "        [ 0.0000,  0.0000,  0.0000,  0.0000,  0.0000]])"
      ]
     },
     "execution_count": 4,
     "metadata": {},
     "output_type": "execute_result"
    }
   ],
   "source": [
    "test = torch.randn(3,5)\n",
    "F.log_softmax(test, dim=1) - my_log_softmax(test, dim=1)"
   ]
  },
  {
   "cell_type": "code",
   "execution_count": 5,
   "metadata": {},
   "outputs": [],
   "source": [
    "def my_NLLLoss(y_hat, y, **kwargs):\n",
    "    N = y_hat.shape[0]\n",
    "    class_cnt = (torch.max(y)+1).item()\n",
    "    y_1h = torch.zeros(N, class_cnt)\n",
    "    y_1h = y_1h.scatter_(1,y[:,None],1)\n",
    "    return -torch.sum(y_1h * my_log_softmax(y_hat))/N"
   ]
  },
  {
   "cell_type": "code",
   "execution_count": 6,
   "metadata": {},
   "outputs": [
    {
     "data": {
      "text/plain": [
       "tensor(0.)"
      ]
     },
     "execution_count": 6,
     "metadata": {},
     "output_type": "execute_result"
    }
   ],
   "source": [
    "x = torch.randn(3,5)\n",
    "y = torch.tensor([1,2,4])\n",
    "F.nll_loss(F.log_softmax(x, dim=1),y) - my_NLLLoss(x, y)"
   ]
  },
  {
   "cell_type": "code",
   "execution_count": 7,
   "metadata": {},
   "outputs": [],
   "source": [
    "class Net(nn.Module):\n",
    "    def __init__(self, log_softmax=False):\n",
    "        super(Net, self).__init__()\n",
    "        self.fc1 = nn.Linear(28*28, 128)\n",
    "        self.fc2 = nn.Linear(128, 128)\n",
    "        self.fc3 = nn.Linear(128, 10)\n",
    "        self.log_softmax = log_softmax\n",
    "        self.optim = optim.Adam(self.parameters(), lr=0.01)\n",
    "        \n",
    "    def forward(self, x):\n",
    "        x = x.view(-1, 28*28)\n",
    "        x = F.relu(self.fc1(x))\n",
    "        x = F.relu(self.fc2(x))\n",
    "        x = self.fc3(x)\n",
    "        if self.log_softmax:\n",
    "            x = F.log_softmax(x, dim=1)\n",
    "            \n",
    "        else:\n",
    "            #x = torch.log(F.softmax(x, dim=1))\n",
    "            x = my_log_softmax(x)\n",
    "        return x\n",
    "    \n",
    "    def loss(self, output, target, **kwargs):\n",
    "        self._loss = F.nll_loss(output, target, **kwargs)\n",
    "        return self._loss"
   ]
  },
  {
   "cell_type": "code",
   "execution_count": 8,
   "metadata": {},
   "outputs": [],
   "source": [
    "def train(epoch, models):\n",
    "    for batch_idx, (data, target) in enumerate(train_loader):\n",
    "        data, target = Variable(data), Variable(target)\n",
    "        for model in models:\n",
    "            model.optim.zero_grad()\n",
    "            output = model(data)\n",
    "            loss = model.loss(output, target)\n",
    "            loss.backward()\n",
    "            model.optim.step()\n",
    "            \n",
    "        if batch_idx % 200 == 0:\n",
    "            line = 'Train Epoch: {} [{}/{} ({:.0f}%)]\\tLosses '.format(\n",
    "                epoch, batch_idx * len(data), len(train_loader.dataset),\n",
    "                100. * batch_idx / len(train_loader))\n",
    "            losses = ' '.join(['{}: {:.6f}'.format(i, m._loss.item()) for i, m in enumerate(models)])\n",
    "            print(line + losses)\n",
    "            \n",
    "    else:\n",
    "        batch_idx += 1\n",
    "        line = 'Train Epoch: {} [{}/{} ({:.0f}%)]\\tLosses '.format(\n",
    "            epoch, batch_idx * len(data), len(train_loader.dataset),\n",
    "            100. * batch_idx / len(train_loader))\n",
    "        losses = ' '.join(['{}: {:.6f}'.format(i, m._loss.item()) for i, m in enumerate(models)])\n",
    "        print(line + losses)"
   ]
  },
  {
   "cell_type": "code",
   "execution_count": 9,
   "metadata": {},
   "outputs": [],
   "source": [
    "models = [Net(), Net(True)]"
   ]
  },
  {
   "cell_type": "code",
   "execution_count": 10,
   "metadata": {},
   "outputs": [],
   "source": [
    "avg_lambda = lambda l: 'Loss: {:.4f}'.format(l)\n",
    "acc_lambda = lambda c, p: 'Accuracy: {}/{} ({:.0f}%)'.format(c, len(test_loader.dataset), p)\n",
    "line = lambda i, l, c, p: '{}: '.format(i) + avg_lambda(l) + '\\t' + acc_lambda(c, p)\n",
    "\n",
    "def test(models):\n",
    "    test_loss = [0]*len(models)\n",
    "    correct = [0]*len(models)\n",
    "    with torch.no_grad():\n",
    "        for data, target in test_loader:\n",
    "            output = [m(data) for m in models]\n",
    "            for i, m in enumerate(models):\n",
    "                test_loss[i] += m.loss(output[i], target, size_average=False).item() # sum up batch loss\n",
    "                pred = output[i].data.max(1, keepdim=True)[1] # get the index of the max log-probability\n",
    "                correct[i] += pred.eq(target.data.view_as(pred)).cpu().sum()\n",
    "    \n",
    "    for i in range(len(models)):\n",
    "        test_loss[i] /= len(test_loader.dataset)\n",
    "    correct_pct = [100. * c / len(test_loader.dataset) for c in correct]\n",
    "    lines = '\\n'.join([line(i, test_loss[i], correct[i], correct_pct[i]) for i in range(len(models))]) + '\\n'\n",
    "    report = 'Test set:\\n' + lines\n",
    "    \n",
    "    print(report)"
   ]
  },
  {
   "cell_type": "code",
   "execution_count": 11,
   "metadata": {},
   "outputs": [
    {
     "name": "stdout",
     "output_type": "stream",
     "text": [
      "Train Epoch: 1 [0/60000 (0%)]\tLosses 0: 2.294205 1: 2.294457\n",
      "Train Epoch: 1 [10000/60000 (17%)]\tLosses 0: 0.033213 1: 0.035892\n",
      "Train Epoch: 1 [20000/60000 (33%)]\tLosses 0: 0.272871 1: 0.530189\n",
      "Train Epoch: 1 [30000/60000 (50%)]\tLosses 0: 0.489271 1: 0.580491\n",
      "Train Epoch: 1 [40000/60000 (67%)]\tLosses 0: 0.298394 1: 0.142053\n",
      "Train Epoch: 1 [50000/60000 (83%)]\tLosses 0: 0.532172 1: 0.271814\n",
      "Train Epoch: 1 [60000/60000 (100%)]\tLosses 0: 0.083555 1: 0.204206\n",
      "Test set:\n",
      "0: Loss: 0.2131\tAccuracy: 9400/10000 (94%)\n",
      "1: Loss: 0.2073\tAccuracy: 9414/10000 (94%)\n",
      "\n",
      "Train Epoch: 2 [0/60000 (0%)]\tLosses 0: 0.203842 1: 0.183360\n",
      "Train Epoch: 2 [10000/60000 (17%)]\tLosses 0: 0.779178 1: 0.380731\n",
      "Train Epoch: 2 [20000/60000 (33%)]\tLosses 0: 0.086773 1: 0.084286\n",
      "Train Epoch: 2 [30000/60000 (50%)]\tLosses 0: 0.422303 1: 0.352292\n",
      "Train Epoch: 2 [40000/60000 (67%)]\tLosses 0: 0.309426 1: 0.241776\n",
      "Train Epoch: 2 [50000/60000 (83%)]\tLosses 0: 0.023629 1: 0.010877\n",
      "Train Epoch: 2 [60000/60000 (100%)]\tLosses 0: 0.248070 1: 0.197345\n",
      "Test set:\n",
      "0: Loss: 0.2364\tAccuracy: 9396/10000 (93%)\n",
      "1: Loss: 0.2448\tAccuracy: 9401/10000 (94%)\n",
      "\n",
      "Train Epoch: 3 [0/60000 (0%)]\tLosses 0: 0.158297 1: 0.159334\n",
      "Train Epoch: 3 [10000/60000 (17%)]\tLosses 0: 0.228875 1: 0.260722\n",
      "Train Epoch: 3 [20000/60000 (33%)]\tLosses 0: 0.208839 1: 0.296527\n",
      "Train Epoch: 3 [30000/60000 (50%)]\tLosses 0: 0.164937 1: 0.121008\n",
      "Train Epoch: 3 [40000/60000 (67%)]\tLosses 0: 0.241750 1: 0.148955\n",
      "Train Epoch: 3 [50000/60000 (83%)]\tLosses 0: 0.167976 1: 0.484385\n",
      "Train Epoch: 3 [60000/60000 (100%)]\tLosses 0: 0.194381 1: 0.090021\n",
      "Test set:\n",
      "0: Loss: 0.2605\tAccuracy: 9437/10000 (94%)\n",
      "1: Loss: 0.2193\tAccuracy: 9427/10000 (94%)\n",
      "\n",
      "Train Epoch: 4 [0/60000 (0%)]\tLosses 0: 0.156008 1: 0.168356\n",
      "Train Epoch: 4 [10000/60000 (17%)]\tLosses 0: 0.130840 1: 0.186285\n",
      "Train Epoch: 4 [20000/60000 (33%)]\tLosses 0: 0.202092 1: 0.210891\n",
      "Train Epoch: 4 [30000/60000 (50%)]\tLosses 0: 0.048620 1: 0.042127\n",
      "Train Epoch: 4 [40000/60000 (67%)]\tLosses 0: 0.016811 1: 0.052663\n",
      "Train Epoch: 4 [50000/60000 (83%)]\tLosses 0: 0.124011 1: 0.065290\n",
      "Train Epoch: 4 [60000/60000 (100%)]\tLosses 0: 0.205043 1: 0.217035\n",
      "Test set:\n",
      "0: Loss: 0.1956\tAccuracy: 9529/10000 (95%)\n",
      "1: Loss: 0.2233\tAccuracy: 9492/10000 (94%)\n",
      "\n",
      "Train Epoch: 5 [0/60000 (0%)]\tLosses 0: 0.118246 1: 0.069779\n",
      "Train Epoch: 5 [10000/60000 (17%)]\tLosses 0: 0.115069 1: 0.411879\n",
      "Train Epoch: 5 [20000/60000 (33%)]\tLosses 0: 0.132921 1: 0.070213\n",
      "Train Epoch: 5 [30000/60000 (50%)]\tLosses 0: 0.660851 1: 0.894172\n",
      "Train Epoch: 5 [40000/60000 (67%)]\tLosses 0: 0.456024 1: 0.262406\n",
      "Train Epoch: 5 [50000/60000 (83%)]\tLosses 0: 0.011000 1: 0.004624\n",
      "Train Epoch: 5 [60000/60000 (100%)]\tLosses 0: 0.177578 1: 0.113576\n",
      "Test set:\n",
      "0: Loss: 0.2046\tAccuracy: 9517/10000 (95%)\n",
      "1: Loss: 0.2086\tAccuracy: 9508/10000 (95%)\n",
      "\n"
     ]
    }
   ],
   "source": [
    "for epoch in range(1, 6):\n",
    "    train(epoch, models)\n",
    "    test(models)"
   ]
  },
  {
   "cell_type": "code",
   "execution_count": null,
   "metadata": {},
   "outputs": [],
   "source": []
  }
 ],
 "metadata": {
  "kernelspec": {
   "display_name": "Python 3",
   "language": "python",
   "name": "python3"
  },
  "language_info": {
   "codemirror_mode": {
    "name": "ipython",
    "version": 3
   },
   "file_extension": ".py",
   "mimetype": "text/x-python",
   "name": "python",
   "nbconvert_exporter": "python",
   "pygments_lexer": "ipython3",
   "version": "3.6.6"
  }
 },
 "nbformat": 4,
 "nbformat_minor": 2
}
